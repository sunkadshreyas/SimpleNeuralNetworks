{
  "nbformat": 4,
  "nbformat_minor": 0,
  "metadata": {
    "colab": {
      "name": "ConvolutionalNN.ipynb",
      "provenance": []
    },
    "kernelspec": {
      "name": "python3",
      "display_name": "Python 3"
    }
  },
  "cells": [
    {
      "cell_type": "code",
      "metadata": {
        "id": "OZSIW78ckPIj",
        "colab_type": "code",
        "colab": {}
      },
      "source": [
        "# Convolutional Neural network to classify images of clothing from fashion MNIST dataset.\n",
        "# Dataset contains images of shape 28x28 and there are 60,000 images in traning data set.\n",
        "# There are 10 types of clothing to be recognized"
      ],
      "execution_count": 1,
      "outputs": []
    },
    {
      "cell_type": "code",
      "metadata": {
        "id": "Xs-4AN0Fknhl",
        "colab_type": "code",
        "colab": {}
      },
      "source": [
        "# Importing the libraries\n",
        "import tensorflow as tf\n",
        "import numpy as np\n",
        "\n",
        "# Importing the dataset\n",
        "from tensorflow.keras.datasets import fashion_mnist"
      ],
      "execution_count": 2,
      "outputs": []
    },
    {
      "cell_type": "code",
      "metadata": {
        "id": "oJFGGOVjlArh",
        "colab_type": "code",
        "colab": {
          "base_uri": "https://localhost:8080/",
          "height": 153
        },
        "outputId": "d61fad73-1a3d-4466-e7bc-04076d49177e"
      },
      "source": [
        "# Data Preprocessing\n",
        "(X_train,y_train),(X_test,y_test) = fashion_mnist.load_data()\n",
        "\n",
        "# Normalizing the images\n",
        "X_train = X_train / 255.0\n",
        "X_test = X_test / 255.0"
      ],
      "execution_count": 3,
      "outputs": [
        {
          "output_type": "stream",
          "text": [
            "Downloading data from https://storage.googleapis.com/tensorflow/tf-keras-datasets/train-labels-idx1-ubyte.gz\n",
            "32768/29515 [=================================] - 0s 0us/step\n",
            "Downloading data from https://storage.googleapis.com/tensorflow/tf-keras-datasets/train-images-idx3-ubyte.gz\n",
            "26427392/26421880 [==============================] - 0s 0us/step\n",
            "Downloading data from https://storage.googleapis.com/tensorflow/tf-keras-datasets/t10k-labels-idx1-ubyte.gz\n",
            "8192/5148 [===============================================] - 0s 0us/step\n",
            "Downloading data from https://storage.googleapis.com/tensorflow/tf-keras-datasets/t10k-images-idx3-ubyte.gz\n",
            "4423680/4422102 [==============================] - 0s 0us/step\n"
          ],
          "name": "stdout"
        }
      ]
    },
    {
      "cell_type": "code",
      "metadata": {
        "id": "sK7OevMnmoKS",
        "colab_type": "code",
        "colab": {
          "base_uri": "https://localhost:8080/",
          "height": 51
        },
        "outputId": "bc31beff-646b-40f3-a399-1b5f61902da7"
      },
      "source": [
        "# Reshaping the arry from (60000,28,28) into (60000,784)\n",
        "# Printing the shapes of Training and Testing set\n",
        "# Models expects dataset shape to be (no.ofimages, height, width, no.ofchannels)\n",
        "X_train = X_train.reshape(60000,28,28,1)\n",
        "print (X_train.shape)\n",
        "X_test = X_test.reshape(10000,28,28,1)\n",
        "print (X_test.shape)"
      ],
      "execution_count": 35,
      "outputs": [
        {
          "output_type": "stream",
          "text": [
            "(60000, 28, 28, 1)\n",
            "(10000, 28, 28, 1)\n"
          ],
          "name": "stdout"
        }
      ]
    },
    {
      "cell_type": "code",
      "metadata": {
        "id": "AyQYNp_ZnTR0",
        "colab_type": "code",
        "colab": {}
      },
      "source": [
        "# Building the network\n",
        "model = tf.keras.Sequential()\n",
        "\n",
        "\n",
        "# Adding a Conv2D layer with 32 filters, filter_size=(3,3), same padding, ReLU activation\n",
        "# Input size is (28,28,1)\n",
        "model.add(tf.keras.layers.Conv2D(filters=32,kernel_size=(3,3),padding='same',activation=tf.nn.relu,input_shape=(28,28,1)))\n",
        "# Adding a Max Pooling Layer\n",
        "# Filter size of (2,2) and strides=2\n",
        "model.add(tf.keras.layers.MaxPooling2D(pool_size=(2,2),strides=2))\n",
        "\n",
        "\n",
        "# Addding a second layer of Conv2D layer with 64 filters, filter_size=(3,3), same padding, ReLU activation\n",
        "model.add(tf.keras.layers.Conv2D(filters=64,kernel_size=(3,3),padding='same',activation=tf.nn.relu))\n",
        "# Adding a Max pooling layer\n",
        "model.add(tf.keras.layers.MaxPooling2D(pool_size=(2,2),strides=2))\n",
        "\n",
        "# Flatten the layers\n",
        "model.add(tf.keras.layers.Flatten())\n",
        "\n",
        "# Add a fully connected layer with 128 units\n",
        "model.add(tf.keras.layers.Dense(128,activation=tf.nn.relu))\n",
        "\n",
        "# Add the final ouput layer\n",
        "model.add(tf.keras.layers.Dense(10,activation=tf.nn.softmax))"
      ],
      "execution_count": 36,
      "outputs": []
    },
    {
      "cell_type": "code",
      "metadata": {
        "id": "AMpiTFROqor8",
        "colab_type": "code",
        "colab": {}
      },
      "source": [
        "# Compile the model\n",
        "model.compile(optimizer='adam',loss='sparse_categorical_crossentropy',metrics=['sparse_categorical_accuracy'])"
      ],
      "execution_count": 37,
      "outputs": []
    },
    {
      "cell_type": "code",
      "metadata": {
        "id": "1IapRipurB1n",
        "colab_type": "code",
        "colab": {
          "base_uri": "https://localhost:8080/",
          "height": 391
        },
        "outputId": "0249408b-fee6-434f-fd52-0a46b470fa0b"
      },
      "source": [
        "# Summary of model showing input and output sizes as images passes each layer\n",
        "model.summary()"
      ],
      "execution_count": 38,
      "outputs": [
        {
          "output_type": "stream",
          "text": [
            "Model: \"sequential_4\"\n",
            "_________________________________________________________________\n",
            "Layer (type)                 Output Shape              Param #   \n",
            "=================================================================\n",
            "conv2d_7 (Conv2D)            (None, 28, 28, 32)        320       \n",
            "_________________________________________________________________\n",
            "max_pooling2d_6 (MaxPooling2 (None, 14, 14, 32)        0         \n",
            "_________________________________________________________________\n",
            "conv2d_8 (Conv2D)            (None, 14, 14, 64)        18496     \n",
            "_________________________________________________________________\n",
            "max_pooling2d_7 (MaxPooling2 (None, 7, 7, 64)          0         \n",
            "_________________________________________________________________\n",
            "flatten_3 (Flatten)          (None, 3136)              0         \n",
            "_________________________________________________________________\n",
            "dense_6 (Dense)              (None, 128)               401536    \n",
            "_________________________________________________________________\n",
            "dense_7 (Dense)              (None, 10)                1290      \n",
            "=================================================================\n",
            "Total params: 421,642\n",
            "Trainable params: 421,642\n",
            "Non-trainable params: 0\n",
            "_________________________________________________________________\n"
          ],
          "name": "stdout"
        }
      ]
    },
    {
      "cell_type": "code",
      "metadata": {
        "id": "mcFIj8WJrQE2",
        "colab_type": "code",
        "colab": {
          "base_uri": "https://localhost:8080/",
          "height": 374
        },
        "outputId": "d8361261-a05e-472d-85b4-afbeecfe1d42"
      },
      "source": [
        "# Fit the dataset \n",
        "\n",
        "model.fit(X_train,y_train,epochs=10)"
      ],
      "execution_count": 42,
      "outputs": [
        {
          "output_type": "stream",
          "text": [
            "Epoch 1/10\n",
            "1875/1875 [==============================] - 70s 37ms/step - loss: 0.1311 - sparse_categorical_accuracy: 0.9506\n",
            "Epoch 2/10\n",
            "1875/1875 [==============================] - 70s 37ms/step - loss: 0.1097 - sparse_categorical_accuracy: 0.9594\n",
            "Epoch 3/10\n",
            "1875/1875 [==============================] - 70s 37ms/step - loss: 0.0918 - sparse_categorical_accuracy: 0.9654\n",
            "Epoch 4/10\n",
            "1875/1875 [==============================] - 70s 37ms/step - loss: 0.0761 - sparse_categorical_accuracy: 0.9719\n",
            "Epoch 5/10\n",
            "1875/1875 [==============================] - 70s 37ms/step - loss: 0.0634 - sparse_categorical_accuracy: 0.9761\n",
            "Epoch 6/10\n",
            "1875/1875 [==============================] - 70s 37ms/step - loss: 0.0521 - sparse_categorical_accuracy: 0.9806\n",
            "Epoch 7/10\n",
            "1875/1875 [==============================] - 70s 37ms/step - loss: 0.0448 - sparse_categorical_accuracy: 0.9837\n",
            "Epoch 8/10\n",
            "1875/1875 [==============================] - 70s 37ms/step - loss: 0.0407 - sparse_categorical_accuracy: 0.9853\n",
            "Epoch 9/10\n",
            "1875/1875 [==============================] - 71s 38ms/step - loss: 0.0346 - sparse_categorical_accuracy: 0.9876\n",
            "Epoch 10/10\n",
            "1875/1875 [==============================] - 70s 37ms/step - loss: 0.0306 - sparse_categorical_accuracy: 0.9886\n"
          ],
          "name": "stdout"
        },
        {
          "output_type": "execute_result",
          "data": {
            "text/plain": [
              "<tensorflow.python.keras.callbacks.History at 0x7f30b4e6d1d0>"
            ]
          },
          "metadata": {
            "tags": []
          },
          "execution_count": 42
        }
      ]
    },
    {
      "cell_type": "code",
      "metadata": {
        "id": "9OIL4JLHx-DX",
        "colab_type": "code",
        "colab": {
          "base_uri": "https://localhost:8080/",
          "height": 34
        },
        "outputId": "09a7b4d2-558d-47da-dc1e-71f4391e6b02"
      },
      "source": [
        "# Test Set Accuracy\n",
        "\n",
        "test_loss, test_accuracy = model.evaluate(X_test,y_test)"
      ],
      "execution_count": 43,
      "outputs": [
        {
          "output_type": "stream",
          "text": [
            "313/313 [==============================] - 4s 12ms/step - loss: 0.4158 - sparse_categorical_accuracy: 0.9189\n"
          ],
          "name": "stdout"
        }
      ]
    },
    {
      "cell_type": "code",
      "metadata": {
        "id": "uyyBracS0HE9",
        "colab_type": "code",
        "colab": {
          "base_uri": "https://localhost:8080/",
          "height": 34
        },
        "outputId": "54275bf3-9de2-46ee-f21e-36cb6a1a40fd"
      },
      "source": [
        "# Printing the test set accuracy\n",
        "\n",
        "print ('Test Accuracy : {}'.format(test_accuracy*100))"
      ],
      "execution_count": 44,
      "outputs": [
        {
          "output_type": "stream",
          "text": [
            "Test Accuracy : 91.89000129699707\n"
          ],
          "name": "stdout"
        }
      ]
    }
  ]
}