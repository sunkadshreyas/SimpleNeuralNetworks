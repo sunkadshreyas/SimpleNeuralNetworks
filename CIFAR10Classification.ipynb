{
  "nbformat": 4,
  "nbformat_minor": 0,
  "metadata": {
    "colab": {
      "name": "CIFAR10Classification.ipynb",
      "provenance": []
    },
    "kernelspec": {
      "name": "python3",
      "display_name": "Python 3"
    },
    "accelerator": "GPU",
    "widgets": {
      "application/vnd.jupyter.widget-state+json": {
        "bf4ba5360a2c4cbdb4c3c92b52dd6a52": {
          "model_module": "@jupyter-widgets/controls",
          "model_name": "HBoxModel",
          "state": {
            "_view_name": "HBoxView",
            "_dom_classes": [],
            "_model_name": "HBoxModel",
            "_view_module": "@jupyter-widgets/controls",
            "_model_module_version": "1.5.0",
            "_view_count": null,
            "_view_module_version": "1.5.0",
            "box_style": "",
            "layout": "IPY_MODEL_1e9c9764409645d7aa72f24149721011",
            "_model_module": "@jupyter-widgets/controls",
            "children": [
              "IPY_MODEL_55668b7afb3c461b8fafa4620c09c276",
              "IPY_MODEL_1dbfc9a4944c4af9898ded819e378658"
            ]
          }
        },
        "1e9c9764409645d7aa72f24149721011": {
          "model_module": "@jupyter-widgets/base",
          "model_name": "LayoutModel",
          "state": {
            "_view_name": "LayoutView",
            "grid_template_rows": null,
            "right": null,
            "justify_content": null,
            "_view_module": "@jupyter-widgets/base",
            "overflow": null,
            "_model_module_version": "1.2.0",
            "_view_count": null,
            "flex_flow": null,
            "width": null,
            "min_width": null,
            "border": null,
            "align_items": null,
            "bottom": null,
            "_model_module": "@jupyter-widgets/base",
            "top": null,
            "grid_column": null,
            "overflow_y": null,
            "overflow_x": null,
            "grid_auto_flow": null,
            "grid_area": null,
            "grid_template_columns": null,
            "flex": null,
            "_model_name": "LayoutModel",
            "justify_items": null,
            "grid_row": null,
            "max_height": null,
            "align_content": null,
            "visibility": null,
            "align_self": null,
            "height": null,
            "min_height": null,
            "padding": null,
            "grid_auto_rows": null,
            "grid_gap": null,
            "max_width": null,
            "order": null,
            "_view_module_version": "1.2.0",
            "grid_template_areas": null,
            "object_position": null,
            "object_fit": null,
            "grid_auto_columns": null,
            "margin": null,
            "display": null,
            "left": null
          }
        },
        "55668b7afb3c461b8fafa4620c09c276": {
          "model_module": "@jupyter-widgets/controls",
          "model_name": "FloatProgressModel",
          "state": {
            "_view_name": "ProgressView",
            "style": "IPY_MODEL_943de1a95b4741eaa1d76f6be09b6d95",
            "_dom_classes": [],
            "description": "",
            "_model_name": "FloatProgressModel",
            "bar_style": "success",
            "max": 1,
            "_view_module": "@jupyter-widgets/controls",
            "_model_module_version": "1.5.0",
            "value": 1,
            "_view_count": null,
            "_view_module_version": "1.5.0",
            "orientation": "horizontal",
            "min": 0,
            "description_tooltip": null,
            "_model_module": "@jupyter-widgets/controls",
            "layout": "IPY_MODEL_a9a45f081b884eb6ab89d1d4611e0cc0"
          }
        },
        "1dbfc9a4944c4af9898ded819e378658": {
          "model_module": "@jupyter-widgets/controls",
          "model_name": "HTMLModel",
          "state": {
            "_view_name": "HTMLView",
            "style": "IPY_MODEL_806d5d0744444025b79e9a94a8c89119",
            "_dom_classes": [],
            "description": "",
            "_model_name": "HTMLModel",
            "placeholder": "​",
            "_view_module": "@jupyter-widgets/controls",
            "_model_module_version": "1.5.0",
            "value": " 170500096/? [00:06&lt;00:00, 26672335.15it/s]",
            "_view_count": null,
            "_view_module_version": "1.5.0",
            "description_tooltip": null,
            "_model_module": "@jupyter-widgets/controls",
            "layout": "IPY_MODEL_e647d689a524462e93e33a64aadccf8e"
          }
        },
        "943de1a95b4741eaa1d76f6be09b6d95": {
          "model_module": "@jupyter-widgets/controls",
          "model_name": "ProgressStyleModel",
          "state": {
            "_view_name": "StyleView",
            "_model_name": "ProgressStyleModel",
            "description_width": "initial",
            "_view_module": "@jupyter-widgets/base",
            "_model_module_version": "1.5.0",
            "_view_count": null,
            "_view_module_version": "1.2.0",
            "bar_color": null,
            "_model_module": "@jupyter-widgets/controls"
          }
        },
        "a9a45f081b884eb6ab89d1d4611e0cc0": {
          "model_module": "@jupyter-widgets/base",
          "model_name": "LayoutModel",
          "state": {
            "_view_name": "LayoutView",
            "grid_template_rows": null,
            "right": null,
            "justify_content": null,
            "_view_module": "@jupyter-widgets/base",
            "overflow": null,
            "_model_module_version": "1.2.0",
            "_view_count": null,
            "flex_flow": null,
            "width": null,
            "min_width": null,
            "border": null,
            "align_items": null,
            "bottom": null,
            "_model_module": "@jupyter-widgets/base",
            "top": null,
            "grid_column": null,
            "overflow_y": null,
            "overflow_x": null,
            "grid_auto_flow": null,
            "grid_area": null,
            "grid_template_columns": null,
            "flex": null,
            "_model_name": "LayoutModel",
            "justify_items": null,
            "grid_row": null,
            "max_height": null,
            "align_content": null,
            "visibility": null,
            "align_self": null,
            "height": null,
            "min_height": null,
            "padding": null,
            "grid_auto_rows": null,
            "grid_gap": null,
            "max_width": null,
            "order": null,
            "_view_module_version": "1.2.0",
            "grid_template_areas": null,
            "object_position": null,
            "object_fit": null,
            "grid_auto_columns": null,
            "margin": null,
            "display": null,
            "left": null
          }
        },
        "806d5d0744444025b79e9a94a8c89119": {
          "model_module": "@jupyter-widgets/controls",
          "model_name": "DescriptionStyleModel",
          "state": {
            "_view_name": "StyleView",
            "_model_name": "DescriptionStyleModel",
            "description_width": "",
            "_view_module": "@jupyter-widgets/base",
            "_model_module_version": "1.5.0",
            "_view_count": null,
            "_view_module_version": "1.2.0",
            "_model_module": "@jupyter-widgets/controls"
          }
        },
        "e647d689a524462e93e33a64aadccf8e": {
          "model_module": "@jupyter-widgets/base",
          "model_name": "LayoutModel",
          "state": {
            "_view_name": "LayoutView",
            "grid_template_rows": null,
            "right": null,
            "justify_content": null,
            "_view_module": "@jupyter-widgets/base",
            "overflow": null,
            "_model_module_version": "1.2.0",
            "_view_count": null,
            "flex_flow": null,
            "width": null,
            "min_width": null,
            "border": null,
            "align_items": null,
            "bottom": null,
            "_model_module": "@jupyter-widgets/base",
            "top": null,
            "grid_column": null,
            "overflow_y": null,
            "overflow_x": null,
            "grid_auto_flow": null,
            "grid_area": null,
            "grid_template_columns": null,
            "flex": null,
            "_model_name": "LayoutModel",
            "justify_items": null,
            "grid_row": null,
            "max_height": null,
            "align_content": null,
            "visibility": null,
            "align_self": null,
            "height": null,
            "min_height": null,
            "padding": null,
            "grid_auto_rows": null,
            "grid_gap": null,
            "max_width": null,
            "order": null,
            "_view_module_version": "1.2.0",
            "grid_template_areas": null,
            "object_position": null,
            "object_fit": null,
            "grid_auto_columns": null,
            "margin": null,
            "display": null,
            "left": null
          }
        }
      }
    }
  },
  "cells": [
    {
      "cell_type": "code",
      "metadata": {
        "id": "fA7kfR3E6Fcb",
        "colab_type": "code",
        "colab": {}
      },
      "source": [
        "import torch\n",
        "import torchvision\n",
        "import torchvision.transforms as transforms"
      ],
      "execution_count": 1,
      "outputs": []
    },
    {
      "cell_type": "code",
      "metadata": {
        "id": "kxLjYm2iS7eQ",
        "colab_type": "code",
        "colab": {}
      },
      "source": [
        "# Normalize((mean),(std)) the images\n",
        "transform = transforms.Compose([\n",
        "                                transforms.ToTensor(),\n",
        "                                transforms.Normalize((0.5,0.5,0.5), (0.5,0.5,0.5))\n",
        "])"
      ],
      "execution_count": 2,
      "outputs": []
    },
    {
      "cell_type": "code",
      "metadata": {
        "id": "6Grf2ypKTVMl",
        "colab_type": "code",
        "colab": {
          "base_uri": "https://localhost:8080/",
          "height": 100,
          "referenced_widgets": [
            "bf4ba5360a2c4cbdb4c3c92b52dd6a52",
            "1e9c9764409645d7aa72f24149721011",
            "55668b7afb3c461b8fafa4620c09c276",
            "1dbfc9a4944c4af9898ded819e378658",
            "943de1a95b4741eaa1d76f6be09b6d95",
            "a9a45f081b884eb6ab89d1d4611e0cc0",
            "806d5d0744444025b79e9a94a8c89119",
            "e647d689a524462e93e33a64aadccf8e"
          ]
        },
        "outputId": "16661fdf-3c05-4d77-c076-688e40a0bbb4"
      },
      "source": [
        "# Loading training and testing datasets\n",
        "batch_size = 4\n",
        "trainset = torchvision.datasets.CIFAR10(root='./data', train=True, transform=transform, download=True)\n",
        "trainloader = torch.utils.data.DataLoader(trainset, batch_size=batch_size, shuffle=True)\n",
        "testset = torchvision.datasets.CIFAR10(root='./data', train=False, transform=transform, download=True)\n",
        "testloader = torch.utils.data.DataLoader(testset, batch_size=batch_size, shuffle=False)"
      ],
      "execution_count": 3,
      "outputs": [
        {
          "output_type": "stream",
          "text": [
            "Downloading https://www.cs.toronto.edu/~kriz/cifar-10-python.tar.gz to ./data/cifar-10-python.tar.gz\n"
          ],
          "name": "stdout"
        },
        {
          "output_type": "display_data",
          "data": {
            "application/vnd.jupyter.widget-view+json": {
              "model_id": "bf4ba5360a2c4cbdb4c3c92b52dd6a52",
              "version_minor": 0,
              "version_major": 2
            },
            "text/plain": [
              "HBox(children=(FloatProgress(value=1.0, bar_style='info', max=1.0), HTML(value='')))"
            ]
          },
          "metadata": {
            "tags": []
          }
        },
        {
          "output_type": "stream",
          "text": [
            "Extracting ./data/cifar-10-python.tar.gz to ./data\n",
            "Files already downloaded and verified\n"
          ],
          "name": "stdout"
        }
      ]
    },
    {
      "cell_type": "code",
      "metadata": {
        "id": "RPzytWrUUznB",
        "colab_type": "code",
        "colab": {
          "base_uri": "https://localhost:8080/",
          "height": 102
        },
        "outputId": "cdd98f8c-6e90-43a3-ea2c-48e9f2cc2481"
      },
      "source": [
        "# The trainset shape is 4 x 3 x 32 x 32\n",
        "# 4 images at once (batch size), 3 channels and each image is 32 x 32\n",
        "print('Shape of each image : {}'.format(trainset[0][0].shape))\n",
        "print(trainset[0][0][0][0])"
      ],
      "execution_count": 4,
      "outputs": [
        {
          "output_type": "stream",
          "text": [
            "Shape of each image : torch.Size([3, 32, 32])\n",
            "tensor([-0.5373, -0.6627, -0.6078, -0.4667, -0.2314, -0.0667,  0.0902,  0.1373,\n",
            "         0.1686,  0.1686,  0.0275, -0.0196,  0.1137,  0.1294,  0.0745,  0.0118,\n",
            "         0.0745,  0.0510, -0.0275,  0.0902,  0.0902,  0.0431,  0.0667,  0.0902,\n",
            "         0.1922,  0.2784,  0.3176,  0.2471,  0.2392,  0.2392,  0.1922,  0.1608])\n"
          ],
          "name": "stdout"
        }
      ]
    },
    {
      "cell_type": "code",
      "metadata": {
        "id": "c9NmiqgZZDkM",
        "colab_type": "code",
        "colab": {}
      },
      "source": [
        "classes = ('plane', 'car', 'bird', 'cat','deer', 'dog', 'frog', 'horse', 'ship', 'truck')"
      ],
      "execution_count": 5,
      "outputs": []
    },
    {
      "cell_type": "code",
      "metadata": {
        "id": "bfh9BWtjXJDg",
        "colab_type": "code",
        "colab": {}
      },
      "source": [
        "import matplotlib.pyplot as plt\n",
        "import numpy as np\n",
        "\n",
        "def imshow(image):\n",
        "    # unnormalize the image\n",
        "    # divide by 2 (1 / std)->(1/0.5=2), add mean\n",
        "    image = image / 2 + 0.5\n",
        "    npimage = image.numpy()\n",
        "    # the image is 3 x 32 x 32 so we will change to 32 x 32 x 3\n",
        "    plt.figure(figsize=(8,8))\n",
        "    plt.imshow(np.transpose(npimage, (1,2,0)))\n",
        "    plt.show()"
      ],
      "execution_count": 6,
      "outputs": []
    },
    {
      "cell_type": "code",
      "metadata": {
        "id": "E6FNMVejYIzX",
        "colab_type": "code",
        "colab": {
          "base_uri": "https://localhost:8080/",
          "height": 201
        },
        "outputId": "c0631800-cfeb-45a4-fbd8-028ae4c44085"
      },
      "source": [
        "dataiter = iter(trainloader)\n",
        "images,labels = dataiter.next()\n",
        "\n",
        "imshow(torchvision.utils.make_grid(images))\n",
        "print(''.join('%5s ' % classes[labels[j]] for j in range(4)))"
      ],
      "execution_count": 7,
      "outputs": [
        {
          "output_type": "display_data",
          "data": {
            "image/png": "[encoded data removed]",
            "text/plain": [
              "<Figure size 576x576 with 1 Axes>"
            ]
          },
          "metadata": {
            "tags": [],
            "needs_background": "light"
          }
        },
        {
          "output_type": "stream",
          "text": [
            "\n",
            " bird   dog  frog   dog \n"
          ],
          "name": "stdout"
        }
      ]
    },
    {
      "cell_type": "code",
      "metadata": {
        "id": "jxcJWyk1Zxc4",
        "colab_type": "code",
        "colab": {}
      },
      "source": [
        "class LeNet(torch.nn.Module):\n",
        "\n",
        "    def __init__(self):\n",
        "        super(LeNet, self).__init__()\n",
        "        self.cnn_model = torch.nn.Sequential(\n",
        "            # (input_channels, output_channels, filter_size)\n",
        "            torch.nn.Conv2d(3, 6, 5), # (4,3,32,32) -> (4,6,28,28)\n",
        "            torch.nn.ReLU(),\n",
        "            torch.nn.MaxPool2d(2, stride=2), # (4,6,30,30) -> (4,6,14,14)\n",
        "            torch.nn.Conv2d(6, 16, 5), # (4,6,14,14) -> (4,16,10,10)\n",
        "            torch.nn.ReLU(),\n",
        "            torch.nn.MaxPool2d(2, stride=2) # (4,16,10,10) -> (4,16,5,5)\n",
        "        )\n",
        "        self.fc_model = torch.nn.Sequential(\n",
        "            torch.nn.Linear(400,120), # (16*5*5) -> (120)\n",
        "            torch.nn.ReLU(),\n",
        "            torch.nn.Linear(120,84), # (120) -> (84)\n",
        "            torch.nn.ReLU(),\n",
        "            torch.nn.Linear(84,10)\n",
        "        )\n",
        "\n",
        "    def forward(self,x):\n",
        "        #print(x.shape) (4,3,32,32)\n",
        "        x = self.cnn_model(x)\n",
        "        #print(x.shape) (4,16,5,5)\n",
        "        x = x.view(x.size(0),-1) # flatten into a single layer\n",
        "        #print(x.shape) (4,400)\n",
        "        x = self.fc_model(x)\n",
        "        #print(x.shape) (4,10)\n",
        "        return x \n",
        "\n"
      ],
      "execution_count": 8,
      "outputs": []
    },
    {
      "cell_type": "code",
      "metadata": {
        "id": "ZOPDRzBB6Xv_",
        "colab_type": "code",
        "colab": {}
      },
      "source": [
        "net = LeNet()\n",
        "output = net(images)"
      ],
      "execution_count": 9,
      "outputs": []
    },
    {
      "cell_type": "code",
      "metadata": {
        "id": "SyiUnrkq69PZ",
        "colab_type": "code",
        "colab": {}
      },
      "source": [
        "loss_function = torch.nn.CrossEntropyLoss()\n",
        "optimizer = torch.optim.SGD(net.parameters(), lr=0.001, momentum=0.9)"
      ],
      "execution_count": 10,
      "outputs": []
    },
    {
      "cell_type": "code",
      "metadata": {
        "id": "A7eWXMK57ml9",
        "colab_type": "code",
        "colab": {
          "base_uri": "https://localhost:8080/",
          "height": 306
        },
        "outputId": "c4748f05-a508-448a-a728-f6d080a0d47e"
      },
      "source": [
        "for epoch in range(2):\n",
        "\n",
        "    running_loss = 0.0\n",
        "    for i,data in enumerate(trainloader,0):\n",
        "\n",
        "        inputs, labels = data\n",
        "\n",
        "        optimizer.zero_grad()\n",
        "\n",
        "        outputs = net(inputs) # forward propagation\n",
        "        loss = loss_function(outputs,labels) # loss function\n",
        "        loss.backward() # backward propagation\n",
        "        optimizer.step() # update parameters\n",
        "\n",
        "        running_loss += loss.item()\n",
        "\n",
        "        if i%2000 == 1999:\n",
        "            # prints loss value after batch size of 2000\n",
        "            print('Epoch : %d, Batch : %5d, Loss : %.3f' % (epoch+1, i+1, running_loss/2000))\n",
        "            running_loss = 0.0\n",
        "\n",
        "print('\\n-----\\nEnd of Training\\n----\\n')            "
      ],
      "execution_count": 11,
      "outputs": [
        {
          "output_type": "stream",
          "text": [
            "Epoch : 1, Batch :  2000, Loss : 2.228\n",
            "Epoch : 1, Batch :  4000, Loss : 1.901\n",
            "Epoch : 1, Batch :  6000, Loss : 1.672\n",
            "Epoch : 1, Batch :  8000, Loss : 1.577\n",
            "Epoch : 1, Batch : 10000, Loss : 1.530\n",
            "Epoch : 1, Batch : 12000, Loss : 1.478\n",
            "Epoch : 2, Batch :  2000, Loss : 1.417\n",
            "Epoch : 2, Batch :  4000, Loss : 1.389\n",
            "Epoch : 2, Batch :  6000, Loss : 1.361\n",
            "Epoch : 2, Batch :  8000, Loss : 1.325\n",
            "Epoch : 2, Batch : 10000, Loss : 1.303\n",
            "Epoch : 2, Batch : 12000, Loss : 1.302\n",
            "\n",
            "-----\n",
            "End of Training\n",
            "----\n",
            "\n"
          ],
          "name": "stdout"
        }
      ]
    },
    {
      "cell_type": "code",
      "metadata": {
        "id": "DpdUfrXb-cvA",
        "colab_type": "code",
        "colab": {
          "base_uri": "https://localhost:8080/",
          "height": 34
        },
        "outputId": "4f20f567-246c-4a67-d893-57a864e423ae"
      },
      "source": [
        "# Accuracy on test set\n",
        "correct = 0\n",
        "total = 0\n",
        "\n",
        "with torch.no_grad():\n",
        "    for data in testloader:\n",
        "        images,labels = data\n",
        "        outputs = net(images)\n",
        "        _, predicted = torch.max(outputs.data, 1)\n",
        "        total += labels.size(0)\n",
        "        correct += (predicted == labels).sum().item()\n",
        "\n",
        "print('Accuracy of network on test set : %d %%' %(100 * correct/total))        "
      ],
      "execution_count": 12,
      "outputs": [
        {
          "output_type": "stream",
          "text": [
            "Accuracy of network on test set : 55 %\n"
          ],
          "name": "stdout"
        }
      ]
    },
    {
      "cell_type": "code",
      "metadata": {
        "id": "qEITM1u6AMh4",
        "colab_type": "code",
        "colab": {
          "base_uri": "https://localhost:8080/",
          "height": 187
        },
        "outputId": "7c81fe3f-ca4d-433d-b144-fc01b6862c8b"
      },
      "source": [
        "# Accuracy of individual classes on test set\n",
        "class_correct = list(0. for i in range(10))\n",
        "class_total = list(0. for i in range(10))\n",
        "\n",
        "with torch.no_grad():\n",
        "    for data in testloader:\n",
        "        images,labels = data\n",
        "        outputs = net(images)\n",
        "        _,predicted = torch.max(outputs, 1)\n",
        "        c = (predicted == labels).squeeze()\n",
        "        for i in range(4):\n",
        "            label = labels[i]\n",
        "            class_correct[label] += c[i].item()\n",
        "            class_total[label] += 1\n",
        "\n",
        "for i in range(10):\n",
        "    print('Accuracy of %5s : %2d %%' %(classes[i], 100 * class_correct[i]/class_total[i]))            \n"
      ],
      "execution_count": 13,
      "outputs": [
        {
          "output_type": "stream",
          "text": [
            "Accuracy of plane : 59 %\n",
            "Accuracy of   car : 45 %\n",
            "Accuracy of  bird : 48 %\n",
            "Accuracy of   cat : 39 %\n",
            "Accuracy of  deer : 41 %\n",
            "Accuracy of   dog : 42 %\n",
            "Accuracy of  frog : 73 %\n",
            "Accuracy of horse : 64 %\n",
            "Accuracy of  ship : 61 %\n",
            "Accuracy of truck : 73 %\n"
          ],
          "name": "stdout"
        }
      ]
    }
  ]
}