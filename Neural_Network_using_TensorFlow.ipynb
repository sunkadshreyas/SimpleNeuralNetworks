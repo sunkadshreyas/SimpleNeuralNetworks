{
  "nbformat": 4,
  "nbformat_minor": 0,
  "metadata": {
    "colab": {
      "name": "Neural Network using TensorFlow.ipynb",
      "provenance": [],
      "collapsed_sections": []
    },
    "kernelspec": {
      "name": "python3",
      "display_name": "Python 3"
    }
  },
  "cells": [
    {
      "cell_type": "code",
      "metadata": {
        "id": "C3_FyxcbYhIw",
        "colab_type": "code",
        "colab": {}
      },
      "source": [
        "import numpy as np\n",
        "import tensorflow as tf\n",
        "from tensorflow.keras.datasets import fashion_mnist"
      ],
      "execution_count": 0,
      "outputs": []
    },
    {
      "cell_type": "code",
      "metadata": {
        "id": "jkQIWx5oae2Z",
        "colab_type": "code",
        "colab": {
          "base_uri": "https://localhost:8080/",
          "height": 153
        },
        "outputId": "97a65118-26d4-4bf5-887c-2f27d5aaef46"
      },
      "source": [
        "# Data preprocessing\n",
        "(X_train,y_train),(X_test,y_test) = fashion_mnist.load_data()\n",
        "# Normalizing the images (Each pixel max value is 255)\n",
        "# All pixel values will be between 0 and 1\n",
        "X_train = X_train / 255.0\n",
        "X_test = X_test / 255.0"
      ],
      "execution_count": 3,
      "outputs": [
        {
          "output_type": "stream",
          "text": [
            "Downloading data from https://storage.googleapis.com/tensorflow/tf-keras-datasets/train-labels-idx1-ubyte.gz\n",
            "32768/29515 [=================================] - 0s 0us/step\n",
            "Downloading data from https://storage.googleapis.com/tensorflow/tf-keras-datasets/train-images-idx3-ubyte.gz\n",
            "26427392/26421880 [==============================] - 0s 0us/step\n",
            "Downloading data from https://storage.googleapis.com/tensorflow/tf-keras-datasets/t10k-labels-idx1-ubyte.gz\n",
            "8192/5148 [===============================================] - 0s 0us/step\n",
            "Downloading data from https://storage.googleapis.com/tensorflow/tf-keras-datasets/t10k-images-idx3-ubyte.gz\n",
            "4423680/4422102 [==============================] - 0s 0us/step\n"
          ],
          "name": "stdout"
        }
      ]
    },
    {
      "cell_type": "code",
      "metadata": {
        "id": "FMEocc79gZUo",
        "colab_type": "code",
        "colab": {
          "base_uri": "https://localhost:8080/",
          "height": 51
        },
        "outputId": "23529138-c065-4d95-f210-b73ec3338808"
      },
      "source": [
        "# Each image is 28x28 pixels and there are 60k such images\n",
        "# Reshaping this into a 60,000 x 784 matrix (each row consists of 784(28*28) entries)\n",
        "# There are 10 types of clothes, number of classes is 10\n",
        "X_train = X_train.reshape(-1,28*28)\n",
        "print (X_train.shape)\n",
        "X_test = X_test.reshape(-1,28*28)\n",
        "print (X_test.shape)"
      ],
      "execution_count": 5,
      "outputs": [
        {
          "output_type": "stream",
          "text": [
            "(60000, 784)\n",
            "(10000, 784)\n"
          ],
          "name": "stdout"
        }
      ]
    },
    {
      "cell_type": "code",
      "metadata": {
        "id": "Yup9RVQPlh0p",
        "colab_type": "code",
        "colab": {}
      },
      "source": [
        "# Building the network\n",
        "model = tf.keras.models.Sequential()\n",
        "\n",
        "# Add the first hidden layer\n",
        "# 128 hidden units, ReLU activation function and input shape being (784,)\n",
        "model.add(tf.keras.layers.Dense(units=128,activation='relu',input_shape=(784,)))\n",
        "\n",
        "# Adding a second layer of Dropout Regularization\n",
        "# Parameter is percentage of neurons that are dropped\n",
        "model.add(tf.keras.layers.Dropout(0.2))\n",
        "\n",
        "# Adding the output layer\n",
        "# 10 classes of clothes to be predicted\n",
        "model.add(tf.keras.layers.Dense(units=10,activation='softmax'))"
      ],
      "execution_count": 0,
      "outputs": []
    },
    {
      "cell_type": "code",
      "metadata": {
        "id": "s3QsNuUZqvHm",
        "colab_type": "code",
        "colab": {
          "base_uri": "https://localhost:8080/",
          "height": 255
        },
        "outputId": "60a75434-b374-486c-f385-c72142c6c087"
      },
      "source": [
        "# Compiling the model\n",
        "model.compile(optimizer='adam',loss='sparse_categorical_crossentropy',metrics=['sparse_categorical_accuracy'])\n",
        "\n",
        "model.summary()"
      ],
      "execution_count": 7,
      "outputs": [
        {
          "output_type": "stream",
          "text": [
            "Model: \"sequential\"\n",
            "_________________________________________________________________\n",
            "Layer (type)                 Output Shape              Param #   \n",
            "=================================================================\n",
            "dense (Dense)                (None, 128)               100480    \n",
            "_________________________________________________________________\n",
            "dropout (Dropout)            (None, 128)               0         \n",
            "_________________________________________________________________\n",
            "dense_1 (Dense)              (None, 10)                1290      \n",
            "=================================================================\n",
            "Total params: 101,770\n",
            "Trainable params: 101,770\n",
            "Non-trainable params: 0\n",
            "_________________________________________________________________\n"
          ],
          "name": "stdout"
        }
      ]
    },
    {
      "cell_type": "code",
      "metadata": {
        "id": "Y3jaYXGErUfc",
        "colab_type": "code",
        "colab": {
          "base_uri": "https://localhost:8080/",
          "height": 204
        },
        "outputId": "50daeefd-d4c5-4e17-bf84-da0f59e78cec"
      },
      "source": [
        "# Training the model\n",
        "model.fit(X_train,y_train,epochs=5,batch_size=1024)"
      ],
      "execution_count": 9,
      "outputs": [
        {
          "output_type": "stream",
          "text": [
            "Epoch 1/5\n",
            "59/59 [==============================] - 1s 12ms/step - loss: 0.3700 - sparse_categorical_accuracy: 0.8695\n",
            "Epoch 2/5\n",
            "59/59 [==============================] - 1s 12ms/step - loss: 0.3570 - sparse_categorical_accuracy: 0.8737\n",
            "Epoch 3/5\n",
            "59/59 [==============================] - 1s 12ms/step - loss: 0.3493 - sparse_categorical_accuracy: 0.8766\n",
            "Epoch 4/5\n",
            "59/59 [==============================] - 1s 12ms/step - loss: 0.3441 - sparse_categorical_accuracy: 0.8783\n",
            "Epoch 5/5\n",
            "59/59 [==============================] - 1s 12ms/step - loss: 0.3368 - sparse_categorical_accuracy: 0.8800\n"
          ],
          "name": "stdout"
        },
        {
          "output_type": "execute_result",
          "data": {
            "text/plain": [
              "<tensorflow.python.keras.callbacks.History at 0x7fa53fa3dac8>"
            ]
          },
          "metadata": {
            "tags": []
          },
          "execution_count": 9
        }
      ]
    },
    {
      "cell_type": "code",
      "metadata": {
        "id": "3smVn0yJsQNp",
        "colab_type": "code",
        "colab": {
          "base_uri": "https://localhost:8080/",
          "height": 34
        },
        "outputId": "ec0bc856-435e-4512-c850-a354407f58c6"
      },
      "source": [
        "# Evaluating on the test set\n",
        "test_loss, test_accuracy = model.evaluate(X_test,y_test)"
      ],
      "execution_count": 10,
      "outputs": [
        {
          "output_type": "stream",
          "text": [
            "313/313 [==============================] - 0s 1ms/step - loss: 0.3658 - sparse_categorical_accuracy: 0.8692\n"
          ],
          "name": "stdout"
        }
      ]
    },
    {
      "cell_type": "code",
      "metadata": {
        "id": "4I5ed7qxtsIl",
        "colab_type": "code",
        "colab": {
          "base_uri": "https://localhost:8080/",
          "height": 34
        },
        "outputId": "b382796c-2a63-4bc6-ec77-41732ad38079"
      },
      "source": [
        "print ('Test Accuracy : {}'.format(test_accuracy))"
      ],
      "execution_count": 11,
      "outputs": [
        {
          "output_type": "stream",
          "text": [
            "Test Accuracy : 0.8691999912261963\n"
          ],
          "name": "stdout"
        }
      ]
    }
  ]
}